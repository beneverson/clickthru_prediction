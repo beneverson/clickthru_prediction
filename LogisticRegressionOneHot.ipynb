{
 "metadata": {
  "name": "",
  "signature": "sha256:4438c63c890d8b574ca62a1ab094ee519a66deefa5c79d2f9b2339487e2a10b3"
 },
 "nbformat": 3,
 "nbformat_minor": 0,
 "worksheets": [
  {
   "cells": [
    {
     "cell_type": "code",
     "collapsed": false,
     "input": [
      "import pandas as pd\n",
      "%matplotlib inline\n",
      "from sklearn.feature_extraction import FeatureHasher\n",
      "from scipy.sparse import hstack\n",
      "from sklearn import metrics\n",
      "from sklearn.cross_validation import train_test_split\n",
      "from sklearn.grid_search import GridSearchCV\n",
      "from sklearn.linear_model import LogisticRegression"
     ],
     "language": "python",
     "metadata": {},
     "outputs": [],
     "prompt_number": 1
    },
    {
     "cell_type": "code",
     "collapsed": false,
     "input": [
      "# Read a sample of the data:\n",
      "# This sample consists of 50k records randomly sampled from the data and\n",
      "# was produced with the subsample package. \n",
      "# \n",
      "df = pd.read_csv('data/train_sample.csv', dtype=str, nrows=250000) # only read in a small subset\n",
      "df.columns"
     ],
     "language": "python",
     "metadata": {},
     "outputs": [
      {
       "metadata": {},
       "output_type": "pyout",
       "prompt_number": 2,
       "text": [
        "Index([u'id', u'click', u'hour', u'C1', u'banner_pos', u'site_id', u'site_domain', u'site_category', u'app_id', u'app_domain', u'app_category', u'device_id', u'device_ip', u'device_os', u'device_make', u'device_model', u'device_type', u'device_conn_type', u'device_geo_country', u'C17', u'C18', u'C19', u'C20', u'C21', u'C22', u'C23', u'C24'], dtype='object')"
       ]
      }
     ],
     "prompt_number": 2
    },
    {
     "cell_type": "code",
     "collapsed": false,
     "input": [
      "# generate a sparse matrix from the dataframe 'dataframe'\n",
      "def generate_feature_matrix_for_categoricals(feaures_to_use, dataframe):\n",
      "    fh = FeatureHasher(n_features=2**18, input_type=\"string\")\n",
      "    feature_matrices = []\n",
      "    for feature_name in features_of_interest:\n",
      "        feature_matrices.append(fh.transform(k for k in dataframe[feature_name].values))\n",
      "    return hstack(feature_matrices)"
     ],
     "language": "python",
     "metadata": {},
     "outputs": [],
     "prompt_number": 3
    },
    {
     "cell_type": "code",
     "collapsed": false,
     "input": [
      "def make_submission_file(prediction_model, output_file_name, chunksize=10000, test_file_name='data/test_rev2'):\n",
      "    # read the test data in chunks\n",
      "    test_data = pd.read_csv(test_file_name, dtype=str, iterator=True, chunksize=chunksize)\n",
      "    # iterate through chunks, predict on each\n",
      "    submission_df = pd.DataFrame(columns=['id','click'])\n",
      "    for chunk in test_data:\n",
      "        X_chunk = generate_feature_matrix_for_categoricals(features_of_interest, chunk)\n",
      "        y_predicted = prediction_model.predict_proba(X_chunk)\n",
      "        predicted_chunk = pd.DataFrame()\n",
      "        predicted_chunk['id'] = chunk['id']\n",
      "        predicted_chunk['click'] = [pred[1] for pred in y_predicted]\n",
      "        # append this predicted chunk to the output df\n",
      "        submission_df = submission_df.append(predicted_chunk, ignore_index=True)\n",
      "    submission_df.to_csv(output_file_name, index=False)"
     ],
     "language": "python",
     "metadata": {},
     "outputs": [],
     "prompt_number": 4
    },
    {
     "cell_type": "code",
     "collapsed": false,
     "input": [
      "# Feature selection: \n",
      "# try site_category, site_domain, app_category, app_domain, \n",
      "# device_type, device_geo_country, hour, weekday, month\n",
      "# use the feature hash trick to get a proper feature matrix\n",
      "features_of_interest = [u'hour', u'C1', u'banner_pos', \n",
      "                        u'site_id', u'site_domain', u'site_category', u'app_id', \n",
      "                        u'app_domain', u'app_category', u'device_id', u'device_ip', \n",
      "                        u'device_os', u'device_make', u'device_model', u'device_type', \n",
      "                        u'device_conn_type', u'device_geo_country', u'C17', u'C18', u'C19', \n",
      "                        u'C20', u'C21', u'C22', u'C23', u'C24']"
     ],
     "language": "python",
     "metadata": {},
     "outputs": [],
     "prompt_number": 5
    },
    {
     "cell_type": "code",
     "collapsed": false,
     "input": [
      "# define the feature matrix / label vector\n",
      "X = generate_feature_matrix_for_categoricals(features_of_interest, df)\n",
      "y = df['click'].apply(lambda x: int(x)).values"
     ],
     "language": "python",
     "metadata": {},
     "outputs": [],
     "prompt_number": 6
    },
    {
     "cell_type": "code",
     "collapsed": false,
     "input": [
      "# using logistic regression with l2 penalty, fit the data\n",
      "clf = LogisticRegression(penalty=\"l2\", C=100)\n",
      "clf.fit(X,y)"
     ],
     "language": "python",
     "metadata": {},
     "outputs": [
      {
       "metadata": {},
       "output_type": "pyout",
       "prompt_number": 7,
       "text": [
        "LogisticRegression(C=100, class_weight=None, dual=False, fit_intercept=True,\n",
        "          intercept_scaling=1, penalty='l2', random_state=None, tol=0.0001)"
       ]
      }
     ],
     "prompt_number": 7
    },
    {
     "cell_type": "code",
     "collapsed": false,
     "input": [
      "# generate the submission file\n",
      "make_submission_file(clf, 'data/submision_11_06_14.csv')"
     ],
     "language": "python",
     "metadata": {},
     "outputs": [],
     "prompt_number": 8
    },
    {
     "cell_type": "code",
     "collapsed": false,
     "input": [],
     "language": "python",
     "metadata": {},
     "outputs": [],
     "prompt_number": 8
    }
   ],
   "metadata": {}
  }
 ]
}